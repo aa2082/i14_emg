{
 "cells": [
  {
   "cell_type": "code",
   "execution_count": 212,
   "id": "08b6b708",
   "metadata": {},
   "outputs": [],
   "source": [
    "from __future__ import print_function\n",
    "from ipywidgets import interact, interactive, fixed, interact_manual\n",
    "import ipywidgets as widgets\n",
    "\n",
    "import numpy as np\n",
    "import pandas as pd\n",
    "import plotly.express as px\n",
    "from scipy.fft import fft,ifft\n",
    "import matplotlib.pyplot as plt\n",
    "import os"
   ]
  },
  {
   "cell_type": "code",
   "execution_count": 213,
   "id": "265a8339",
   "metadata": {},
   "outputs": [],
   "source": [
    "#getting experiment list\n",
    "experiments = os.listdir(\"Person_A\")\n",
    "for i in range(len(experiments)):\n",
    "    experiments[i] = experiments[i][:-4]\n",
    "experiments.sort()\n",
    "\n",
    "#loading data\n",
    "def load(person = \"C\",exp=\"Reference\"):\n",
    "    return pd.read_csv(\"Person_\"+person+\"/\"+exp+\".csv\",header=None,names=[\"vals\"])\n",
    "\n",
    "#rectify signal\n",
    "def rectify(ref,data):\n",
    "    data.vals = np.absolute(data.vals)-ref.vals.mean()\n",
    "    return data\n",
    "\n",
    "def fft_filter(ref,data):\n",
    "    num = max(len(data.vals),len(ref.vals))\n",
    "    data.vals = ifft(fft(np.array(data.vals).real,n=num)-fft(np.array(ref.vals).real,n=num))\n",
    "    return data\n",
    "def moving_average(data,window_size):\n",
    "    data.vals = data.vals.rolling(window_size).mean()\n",
    "    return data\n",
    "def plot(data,stdeb=False):\n",
    "    plt.plot(data)\n",
    "    plt.show()"
   ]
  },
  {
   "cell_type": "code",
   "execution_count": 214,
   "id": "77d9d933",
   "metadata": {},
   "outputs": [],
   "source": [
    "def graph(person,exp,rc=True,ffilt=True,ma=True,stdeb=True):\n",
    "    if(exp == \"Reference\"): ffilt = False #if looking at reference signal, can't filter by itself\n",
    "    ref = load(person,\"Reference\") #reference signal for person\n",
    "    sig = load(person,exp) #signal of interest\n",
    "    if(rc): sig = rectify(ref,sig)\n",
    "    if(ffilt): sig = fft_filter(ref,sig)\n",
    "    if(ma!=0): sig = moving_average(sig,ma)\n",
    "    plot(sig,stdeb)"
   ]
  },
  {
   "cell_type": "code",
   "execution_count": 215,
   "id": "1dea6b1f",
   "metadata": {},
   "outputs": [
    {
     "name": "stdout",
     "output_type": "stream",
     "text": [
      "2500\n",
      "5000\n"
     ]
    },
    {
     "data": {
      "application/vnd.jupyter.widget-view+json": {
       "model_id": "ca073a291c9544fab22a3798fd01e6ab",
       "version_major": 2,
       "version_minor": 0
      },
      "text/plain": [
       "interactive(children=(Dropdown(description='person', options=('A', 'B', 'C'), value='A'), Dropdown(description…"
      ]
     },
     "metadata": {},
     "output_type": "display_data"
    }
   ],
   "source": [
    "ref = load(\"A\")\n",
    "sig = load(\"A\",\"flex_fingers1\")\n",
    "print(len(ref))\n",
    "print(len(sig))\n",
    "interact(graph, person=[\"A\",\"B\",\"C\"],exp=experiments,rc=True,ffilt=False,ma=75,stdeb=True);"
   ]
  }
 ],
 "metadata": {
  "kernelspec": {
   "display_name": "Python 3",
   "language": "python",
   "name": "python3"
  },
  "language_info": {
   "codemirror_mode": {
    "name": "ipython",
    "version": 3
   },
   "file_extension": ".py",
   "mimetype": "text/x-python",
   "name": "python",
   "nbconvert_exporter": "python",
   "pygments_lexer": "ipython3",
   "version": "3.8.8"
  }
 },
 "nbformat": 4,
 "nbformat_minor": 5
}
