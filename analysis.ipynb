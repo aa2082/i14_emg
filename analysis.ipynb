{
 "cells": [
  {
   "cell_type": "code",
   "execution_count": 1,
   "id": "08b6b708",
   "metadata": {},
   "outputs": [],
   "source": [
    "from __future__ import print_function\n",
    "from ipywidgets import interact, interactive, fixed, interact_manual\n",
    "import ipywidgets as widgets\n",
    "\n",
    "import numpy as np\n",
    "import pandas as pd\n",
    "import plotly.express as px\n",
    "from scipy.fft import fft,ifft\n",
    "import matplotlib.pyplot as plt\n",
    "import os"
   ]
  },
  {
   "cell_type": "code",
   "execution_count": 2,
   "id": "cf04c018",
   "metadata": {},
   "outputs": [
    {
     "name": "stdout",
     "output_type": "stream",
     "text": [
      "['flex_medium', 'electrode_flex_thumbref', 'flex_weak', 'electrode_flex_paper', 'electrode_flex_tableref', 'electrode_per_finger', 'Wrist_flex', 'flex_fingers', 'electrode_flex_headref', 'flex_strong', 'Reference', 'electrode_flex_chestref', 'electrode_flex_forearmref']\n"
     ]
    },
    {
     "data": {
      "text/plain": [
       "list"
      ]
     },
     "execution_count": 2,
     "metadata": {},
     "output_type": "execute_result"
    }
   ],
   "source": [
    "#getting experiment list\n",
    "experiments = os.listdir(\"Person_A\")\n",
    "experiments.sort()\n",
    "for i in range(len(experiments)):\n",
    "    if(i==0):experiments[i] = experiments[i][:-4]\n",
    "    else: experiments[i] = experiments[i][:-5]\n",
    "experiments = set(experiments)\n",
    "experiments = list(dict.fromkeys(experiments))\n",
    "print(experiments)\n",
    "type(experiments)"
   ]
  },
  {
   "cell_type": "code",
   "execution_count": 23,
   "id": "265a8339",
   "metadata": {},
   "outputs": [],
   "source": [
    "#loading data\n",
    "def load(person = \"C\",exp=\"Reference\"):\n",
    "    return pd.read_csv(\"Person_\"+person+\"/\"+exp+\".csv\",header=None,names=[\"vals\"])\n",
    "\n",
    "#rectify signal\n",
    "def rectify(data):\n",
    "    data.vals = np.absolute(data.vals)\n",
    "    return data\n",
    "def rec_mean(data):\n",
    "    data.vals = data.vals-data.vals.mean()\n",
    "    return data\n",
    "\n",
    "def fft_filter(data):\n",
    "    fft = np.fft.fft(data.vals)\n",
    "    to_filter = np.arange(950,1050)\n",
    "    fft[1250+to_filter].real = 0\n",
    "    fft[to_filter-1250].real = 0\n",
    "    data.vals = np.fft.ifft(fft)\n",
    "    return data\n",
    "def moving_average(data,window_size):\n",
    "    data.vals = data.vals.rolling(window_size).mean()\n",
    "    return data\n",
    "def plot(fig,axs,data,p,stdeb=False):\n",
    "    xs = np.arange(0,len(data),1)/500\n",
    "    std = data.rolling(75).std()\n",
    "    axs[p].plot(xs,data,alpha=0.4)\n",
    "    if(stdeb): axs[p].fill_between(xs, data.vals-std.vals, data.vals+std.vals,alpha=0.2)"
   ]
  },
  {
   "cell_type": "code",
   "execution_count": 24,
   "id": "77d9d933",
   "metadata": {},
   "outputs": [],
   "source": [
    "def graph(person,exp,rc=True,rm=True,ffilt=True,ma=True,stdeb=True):\n",
    "    ps = [\"A\",\"B\",\"C\"]\n",
    "    ref = load(person,\"Reference\") #reference signal for person\n",
    "    fig, axs = plt.subplots(3, 1,figsize=(10,8))\n",
    "\n",
    "    for p in range(len(ps)):\n",
    "        if(exp == \"Reference\"): \n",
    "            ffilt = False #if looking at reference signal, can't filter by itself\n",
    "            sig = load(ps[p],exp) #signal of interest\n",
    "            if(rm): sig = rec_mean(sig)\n",
    "            if(rc): sig = rectify(sig)\n",
    "            if(ffilt): sig = fft_filter(sig)\n",
    "            if(ma!=0): sig = moving_average(sig,ma)\n",
    "            plot(fig,axs,sig,p,stdeb)\n",
    "        else:\n",
    "            for i in range(1,4):\n",
    "                sig = load(ps[p],exp+str(i)) #signal of interest\n",
    "                if(rm): sig = rec_mean(sig)\n",
    "                if(rc): sig = rectify(sig)\n",
    "                if(ffilt): sig = fft_filter(sig)\n",
    "                if(ma!=0): sig = moving_average(sig,ma)\n",
    "                plot(fig,axs,sig,p,stdeb)\n"
   ]
  },
  {
   "cell_type": "code",
   "execution_count": 25,
   "id": "1dea6b1f",
   "metadata": {},
   "outputs": [
    {
     "data": {
      "application/vnd.jupyter.widget-view+json": {
       "model_id": "919ff8ee05b94a61b9df61ef3c6ed3e9",
       "version_major": 2,
       "version_minor": 0
      },
      "text/plain": [
       "interactive(children=(Dropdown(description='person', options=('A', 'B', 'C'), value='A'), Dropdown(description…"
      ]
     },
     "metadata": {},
     "output_type": "display_data"
    }
   ],
   "source": [
    "ref = load(\"A\")\n",
    "sig = load(\"A\",\"flex_fingers1\")\n",
    "%matplotlib inline  \n",
    "interact(graph, person=[\"A\",\"B\",\"C\"],exp=experiments,rc=True,ffilt=False,ma=75,stdeb=True);"
   ]
  },
  {
   "cell_type": "code",
   "execution_count": null,
   "id": "37a845c8",
   "metadata": {},
   "outputs": [],
   "source": []
  }
 ],
 "metadata": {
  "kernelspec": {
   "display_name": "Python 3",
   "language": "python",
   "name": "python3"
  },
  "language_info": {
   "codemirror_mode": {
    "name": "ipython",
    "version": 3
   },
   "file_extension": ".py",
   "mimetype": "text/x-python",
   "name": "python",
   "nbconvert_exporter": "python",
   "pygments_lexer": "ipython3",
   "version": "3.8.8"
  }
 },
 "nbformat": 4,
 "nbformat_minor": 5
}
